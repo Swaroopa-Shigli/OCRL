{
 "cells": [
  {
   "cell_type": "markdown",
   "metadata": {},
   "source": [
    "# <center> Project 1 - Report\n",
    "## <center> Iterative LQR to control a drone\n",
    "##### <center> Swaroopa Shigli - ss14307\n"
   ]
  },
  {
   "cell_type": "markdown",
   "metadata": {},
   "source": [
    "# Goal of the project\n",
    "\n",
    "The goal of this project is to control a 2D quadrotor to perform acrobatic moves. There are 4 parts of the project, where you will build controllers of increasing complexity. The last part will lead to the implementation of the iterative LQR (iLQR) algorithm.\n",
    "\n",
    "## Instructions\n"
   ]
  },
  {
   "cell_type": "markdown",
   "metadata": {},
   "source": [
    "Answer all the questions in the 4 parts below. You will need to submit:\n",
    "1. A report (pdf format only - every other format will be rejected) answering all the questions that do not request code. DO NOT include code in the report.\n",
    "2. One (or several) Jupyter notebook(s) containing all the code used to answer the questions. The notebook(s) should be runnable as is."
   ]
  },
  {
   "cell_type": "markdown",
   "metadata": {},
   "source": [
    "## 2D quadrotor\n",
    "\n",
    "The quadrotor is depicted in the following figure <br> \n",
    "<center><img src='quadrotor.png' width="300" /> <br>\n"
   ]
  },
  {
   "cell_type": "markdown",
   "metadata": {},
   "source": [
    "The quadrotor model is written as\n",
    "$$\\begin{align} \n",
    "\\dot{x} &= v_x\\\\\n",
    "m \\dot{v}_x &= - (u_1 + u_2) \\sin \\theta \\\\ \n",
    "\\dot{y} &= v_y\\\\\n",
    "m \\dot{v}_y &= (u_1 + u_2) \\cos \\theta  - m g\\\\\n",
    "\\dot{\\theta} &= \\omega\\\\\n",
    "I \\dot{\\omega} &= r (u_1 - u_2) \\end{align}$$\n",
    "where $x$ is the horizontal and $y$ the vertical positions of the quadrotor and $\\theta$ is its orientation with respect to the horizontal plane. $v_x$ and $v_y$ are the linear velocities and $\\omega$ is the angular velocity of the robot. $u_1$ and $u_2$ are the forces produced by the rotors (our control inputs). $m$ is the quadrotor mass, $I$ its moment of inertia (a scalar), $r$ is the distance from the center of the robot frame to the propellers and $g$ is the gravity constant. To denote the entire state, we will write $z = [x, v_x, y, v_y, \\theta, \\omega]^T$ - we will also write $u = [u_1, u_2]^T$.\n",
    "\n",
    "The module ```quadrotor.py``` defines useful constants (mass, length, gravity, etc) and functions to simulate and animate the quadrotor as shown below."
   ]
  },
  {
   "cell_type": "markdown",
   "metadata": {},
   "source": [
    "## <center> Part 1 - Setting up <br>\n",
    "\n",
    "### System dynamics <br>\n",
    "\n",
    "The system dynamics are given by: <br>\n",
    "    $$z\\_next = \\begin{bmatrix} dtvx + x \\\\ \\frac{dt(-(u1+u2)sin(\\theta))}{m} + vx \\\\ dtvy + y \\\\ \\frac{dt(-gm+(u1+u2)cos(\\theta))}{m} + vy \\\\ dtw + \\theta \\\\ \\omega + \\frac{dtr(u1-u2)}{I} \\end{bmatrix}$$\n",
    "\n",
    "Given, <br>\n",
    "    &emsp;&emsp;velocities $(vx ,  vy) = 0$ and $\\theta = 0$, so equating the elements 2, 4,5, 6 of above matrix to 0. <br>\n",
    "We get,<br>\n",
    "    &emsp;&emsp;$ u1 = u2 = u$\n",
    "    &emsp;&emsp;$u = \\frac{mg}{2*dt}$\n",
    "\n",
    "### 3. Analyzing the system dynamics, is it possible to move in the x direction while keeping $\\theta = 0$? Explain why. <br>\n",
    "\n",
    "Case: $\\theta = 0$ <br>\n",
    "\n",
    "From system dynamics, <br>\n",
    "    &emsp;&emsp;$\\omega = 0$ <br>\n",
    "    &emsp;&emsp;$vx = 0$ <br>\n",
    "    &emsp;&emsp;$vy = \\frac{mg - (u1+u2)dt}{m}$ <br>\n",
    "    \n",
    "We can see that there is no velocity in x-direction but the velocity in y-direction is controllable by tuning the parameters $u1, u2$. So there is no possibility of steering in x-diretion with $\\theta = 0$\n",
    "\n",
    "### 4. Analyzing the system dynamics, is it possible to have the system at rest with $\\theta = \\frac{\\pi}{2}$ (i.e. have the quadrotor in a vertical position)? Explain why. <br>\n",
    "\n",
    "Case: $\\theta = 90$ <br>\n",
    "\n",
    "From system dynamics, <br>\n",
    "    &emsp;&emsp;$vx = \\frac{(u1+u2)dt}{m}$ <br>\n",
    "    &emsp;&emsp;$vy = -g$ <br>\n",
    "    \n",
    "We can see that there is the velocity in x-direction can be controlled by tuning the parameters $u1, u2$ but the velocity in y-direction is not controllable. So there is no possibility of keeping the system in rest at $\\theta = 90$ as it will keep falling to ground with acceleration $-g$"
   ]
  },
  {
   "cell_type": "markdown",
   "metadata": {},
   "source": [
    "## <center> Part 2 - LQR to stay in place\n",
    "\n",
    "### 5. Explain your intended design in the report, including the cost function and found control law. In particular, verify that it can handle perturbations by calling the ```simulate``` function with ```disturbance = True``` (when setting disturbance to ``True``, the simulator will generate a random perturbation every 1 second). Simulate your controller for 10 seconds, plot the state evolution and show the animation (include the plots in your report).\n",
    "\n",
    "### Next state matrix: <br>\n",
    "\n",
    "Writing the matrices $A, B$ such that $z\\_next = Az + Bu$ using the matrix obtained in part 1 for $z\\_next$. <br>\n",
    "\n",
    "Defining jacobian function ```jacobian_symb()``` which differentiates $z\\_next$ w.r.t $z$ and $u$ to return $A, B$ matrices with symbols. <br>\n",
    "\n",
    "$Q, R$ matrices are defined with appropriate tuning parameters. <br>\n",
    "\n",
    "Defining jacobian function ```get_linearization(z, u)``` which takes in: <br>\n",
    "1. numerical values of dt, mg, I, g, r <br>\n",
    "2. u1, u2 values obtained in the ```dummy_controller2(state, i)``` as $ u = [u1, u2] = [2.943, 2.943]$ and initial state as a $ z0 = 1$ x $6$ zero matrix. <br>\n",
    "3. numerical $ sin(\\theta), cos(\\theta)$<br>\n",
    "\n",
    "The function returns linearized $A, B$ matrices. <br>\n",
    "\n",
    "Next, the function ```LQR_step(A, B, Q, R, QN, N)``` is defined which takes in matrices $Q, R, A, B, N = horizon length$. It calculates the matrix $P$ and gains matrix $K$ along the horizon length. <br>\n",
    "\n",
    "Then the ```dummy_controller2(state, i)``` integrates all the functionalites of the functions ```get_linearization(z, u)``` and ```LQR_infinite(A, B, Q, R, QN, N)``` to return optimal control given by <br> <center> $u\\_optimal = K(z - z0) + u $ <br>"
   ]
  },
  {
   "cell_type": "markdown",
   "metadata": {},
   "source": [
    "### The plots associated are as follows:"
   ]
  },
  {
   "cell_type": "markdown",
   "metadata": {},
   "source": [
    "#### Plot 1: <br>\n",
    "The states matrix with respect to time with the $disturbances = True$"
   ]
  },
  {
   "cell_type": "markdown",
   "metadata": {},
   "source": [
    "<center><img src='P2Img1.png' width=\"600\">"
   ]
  },
  {
   "cell_type": "markdown",
   "metadata": {},
   "source": [
    "#### Plot 2: <br>\n",
    "The control inputs convergin to $zero$ at spikes occuring when $disturbances = True$ at $1 sec.$ intervals."
   ]
  },
  {
   "cell_type": "markdown",
   "metadata": {},
   "source": [
    "<center><img src='P2Img2.png' width=\"600\">"
   ]
  },
  {
   "cell_type": "markdown",
   "metadata": {},
   "source": [
    "## <center> Part 3 - following a trajectory using linearized dynamics\n",
    "\n",
    "\n",
    "### **1. Assume that we want to follow a circle of radius 1 centered at (0,0) while keeping an orientation $\\theta=0$, how does the linearization of the dynamics change along the desired trajectory? Why?**  \n",
    "\n",
    "\n",
    "There exist fluctuation in values of $\\theta$ over the course of the trajectory which impacts the elements of state matrix hence $A, B$ matrices.\n"
   ]
  },
  {
   "cell_type": "markdown",
   "metadata": {},
   "source": [
    "### **2. Design a tracking controller (using an LQ design with linear approximations) to follow this desired trajectory. Explain your design in the report.** \n",
    "\n",
    "\n",
    "1. A circular trajectory of radius 1 is a circle with radius 1. Hence the equation is of the form <br>\n",
    "&emsp;&emsp;&emsp;&emsp;&emsp;&emsp;&emsp;&emsp;&emsp;&emsp;$ x^2 + y^2 = r^2$ <br>where, r = radius = 1.\n",
    "\n",
    "2. The polar coordinates are $x = rsin(\\theta), y = rcos(\\theta)$\n",
    "\n",
    "3. The function ```points_on_circular_tracjectory(r, N)``` and  ```velocity_of_circular_tracjectory``` are defined to get the position and velocities resp. at every timestep of the circumference in the intervals <br>\n",
    "&emsp;&emsp;&emsp;&emsp;&emsp;&emsp;&emsp;&emsp;&emsp;&emsp;$timestep = \\frac{circumference}{horizon\\_length}$\n",
    "\n",
    "4. Then the function ```matrix_x_bar(r,N)``` creates a desired trajectory matrix by calling the above functions\n",
    "\n",
    "5. We create the function ```LQR_for_circular_trajectory(A, B, Q, R, x_bar, curr_i, N)``` which returns the gain matrix and feedforward matrix which are used by ```dummy_controller2(state, i)``` to return optimal policy of the form <br>\n",
    "&emsp;&emsp;&emsp;&emsp;&emsp;&emsp;&emsp;&emsp;&emsp;&emsp;$ optimal\\_policy = gain\\_matrix * state + feedforward$"
   ]
  },
  {
   "cell_type": "markdown",
   "metadata": {},
   "source": [
    "### **3. Test the tracking controller with the simulation (with and without the perturbations) and verify that you can indeed track the (x,y) trajectory very well. Are you able to also track $\\theta$? (Explain)** \n",
    "\n",
    "\n",
    "There exist fluctuations within $\\theta$ with and without the perturbations. But the graphs show that the system converges very soon to act ideally when the $disturbances = True$. Hence the trajectory in both the cases is impacted slightly."
   ]
  },
  {
   "cell_type": "markdown",
   "metadata": {},
   "source": [
    "#### Plot: Theta along the linearization process with distrubances = False\n",
    "\n",
    "The plot specifies how $\\theta$ varies from $0$ to $~0.014$"
   ]
  },
  {
   "cell_type": "markdown",
   "metadata": {},
   "source": [
    "<center><img src='Theta_DF.png' width=\"600\">"
   ]
  },
  {
   "cell_type": "markdown",
   "metadata": {},
   "source": [
    "#### Plot: Theta along the linearization process with distrubances = True\n",
    "\n",
    "The plot specifies how $\\theta$ varies during the $disturbances$ but alomost converge to $0$ just as above."
   ]
  },
  {
   "cell_type": "markdown",
   "metadata": {},
   "source": [
    "<center><img src='Theta_DT.png' width=\"600\">"
   ]
  },
  {
   "cell_type": "markdown",
   "metadata": {},
   "source": [
    "### **4. Analyze your results (including plots of the states, controls, etc). What benefits and issues do you see with this approach?**\n",
    "\n",
    "\n"
   ]
  },
  {
   "cell_type": "markdown",
   "metadata": {},
   "source": [
    "#### Plot: Disturbances = False "
   ]
  },
  {
   "cell_type": "markdown",
   "metadata": {},
   "source": [
    "<center><img src='P3Img1DF.png' width=\"600\">"
   ]
  },
  {
   "cell_type": "markdown",
   "metadata": {},
   "source": [
    "<center><img src='P3Img2DF.png' width=\"600\">"
   ]
  },
  {
   "cell_type": "markdown",
   "metadata": {},
   "source": [
    "#### Plot: Disturbances = True "
   ]
  },
  {
   "cell_type": "markdown",
   "metadata": {},
   "source": [
    "<center><img src='P3Img1DT.png' width=\"600\">"
   ]
  },
  {
   "cell_type": "markdown",
   "metadata": {},
   "source": [
    "<center><img src='P3Img2DT.png' width=\"600\">"
   ]
  },
  {
   "cell_type": "markdown",
   "metadata": {},
   "source": [
    "### **5. Is it possible to do the same thing while keeping a desired orientation of $\\theta = \\frac{\\pi}{4}$? What might influence the results in this case?**\n",
    "\n",
    "\n",
    "At $\\theta = \\frac{\\pi}{4}$, the system is not controllable at the initial point. It does not follow the path holding the angle $\\theta = \\frac{\\pi}{4}$ but rather becomes $\\theta = 0$ as it progresses. "
   ]
  },
  {
   "cell_type": "markdown",
   "metadata": {},
   "source": [
    "## <center>Part 4 - iterative LQR\n",
    "\n",
    "### Task 1 - reaching a vertical orientation\n",
    "\n",
    "#### **7. What benefits and issues do you see with this approach?**\n",
    "\n",
    "Tuning of the parameters for Q and R matrices is the biggest issue. Even after multiple changes in values the graph still has spikes showing uncertainities."
   ]
  }
 ],
 "metadata": {
  "kernelspec": {
   "display_name": "Python 3.10.8 64-bit (microsoft store)",
   "language": "python",
   "name": "python3"
  },
  "language_info": {
   "codemirror_mode": {
    "name": "ipython",
    "version": 3
   },
   "file_extension": ".py",
   "mimetype": "text/x-python",
   "name": "python",
   "nbconvert_exporter": "python",
   "pygments_lexer": "ipython3",
   "version": "3.10.8"
  },
  "orig_nbformat": 4,
  "vscode": {
   "interpreter": {
    "hash": "2ecda123f2dc143fc3294edab2eeb1ff7fa81dc502acac095fd4f13eadca0bd4"
   }
  }
 },
 "nbformat": 4,
 "nbformat_minor": 2
}
